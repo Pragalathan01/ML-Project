{
  "nbformat": 4,
  "nbformat_minor": 0,
  "metadata": {
    "colab": {
      "name": "ML_MINIPROJECT_BATCH_4.ipynb",
      "provenance": [],
      "collapsed_sections": []
    },
    "kernelspec": {
      "display_name": "Python 3",
      "name": "python3"
    },
    "language_info": {
      "name": "python"
    }
  },
  "cells": [
    {
      "cell_type": "markdown",
      "metadata": {
        "id": "dJPuILz01_OV"
      },
      "source": [
        "**Batch_4_\n",
        "Malicious Query detection using machine learning**"
      ]
    },
    {
      "cell_type": "code",
      "metadata": {
        "colab": {
          "base_uri": "https://localhost:8080/"
        },
        "id": "_Ox-bzz517yv",
        "outputId": "18846f13-a7e7-4a8a-f60a-66b8345fb06e"
      },
      "source": [
        "import glob\n",
        "import time\n",
        "import pandas as pd\n",
        "from nltk import ngrams\n",
        "from nltk.tokenize import sent_tokenize\n",
        "import nltk\n",
        "nltk.download('punkt')\n",
        "nltk.download('stopwords')\n",
        "nltk.download('wordnet')\n",
        "from nltk.stem import PorterStemmer\n",
        "from nltk.tokenize import sent_tokenize, word_tokenize\n",
        "from nltk.stem import WordNetLemmatizer\n",
        "from nltk.corpus import stopwords \n",
        "from nltk.tokenize import word_tokenize\n",
        "import requests\n",
        "from bs4 import BeautifulSoup\n",
        "import matplotlib.pyplot as plt"
      ],
      "execution_count": null,
      "outputs": [
        {
          "output_type": "stream",
          "name": "stdout",
          "text": [
            "[nltk_data] Downloading package punkt to /root/nltk_data...\n",
            "[nltk_data]   Unzipping tokenizers/punkt.zip.\n",
            "[nltk_data] Downloading package stopwords to /root/nltk_data...\n",
            "[nltk_data]   Unzipping corpora/stopwords.zip.\n",
            "[nltk_data] Downloading package wordnet to /root/nltk_data...\n",
            "[nltk_data]   Unzipping corpora/wordnet.zip.\n"
          ]
        }
      ]
    },
    {
      "cell_type": "code",
      "metadata": {
        "colab": {
          "base_uri": "https://localhost:8080/",
          "height": 206
        },
        "id": "M_qu3pySAQAS",
        "outputId": "bde855d7-9f30-4a5b-cdfc-481dd38fe77b"
      },
      "source": [
        "df = pd.read_csv('https://raw.githubusercontent.com/mageshkumar16/ML/main/SQLiV321.csv')\n",
        "df.head()\n"
      ],
      "execution_count": null,
      "outputs": [
        {
          "output_type": "execute_result",
          "data": {
            "text/html": [
              "<div>\n",
              "<style scoped>\n",
              "    .dataframe tbody tr th:only-of-type {\n",
              "        vertical-align: middle;\n",
              "    }\n",
              "\n",
              "    .dataframe tbody tr th {\n",
              "        vertical-align: top;\n",
              "    }\n",
              "\n",
              "    .dataframe thead th {\n",
              "        text-align: right;\n",
              "    }\n",
              "</style>\n",
              "<table border=\"1\" class=\"dataframe\">\n",
              "  <thead>\n",
              "    <tr style=\"text-align: right;\">\n",
              "      <th></th>\n",
              "      <th>Sentence</th>\n",
              "      <th>Label</th>\n",
              "    </tr>\n",
              "  </thead>\n",
              "  <tbody>\n",
              "    <tr>\n",
              "      <th>0</th>\n",
              "      <td>\" or pg_sleep  (  __TIME__  )  --</td>\n",
              "      <td>1</td>\n",
              "    </tr>\n",
              "    <tr>\n",
              "      <th>1</th>\n",
              "      <td>create user name identified by pass123 tempora...</td>\n",
              "      <td>1</td>\n",
              "    </tr>\n",
              "    <tr>\n",
              "      <th>2</th>\n",
              "      <td>AND 1  =  utl_inaddr.get_host_address   (    ...</td>\n",
              "      <td>1</td>\n",
              "    </tr>\n",
              "    <tr>\n",
              "      <th>3</th>\n",
              "      <td>select * from users where id  =  '1' or @ @1 ...</td>\n",
              "      <td>1</td>\n",
              "    </tr>\n",
              "    <tr>\n",
              "      <th>4</th>\n",
              "      <td>select * from users where id  =  1 or 1#\"  ( ...</td>\n",
              "      <td>1</td>\n",
              "    </tr>\n",
              "  </tbody>\n",
              "</table>\n",
              "</div>"
            ],
            "text/plain": [
              "                                            Sentence  Label\n",
              "0                  \" or pg_sleep  (  __TIME__  )  --      1\n",
              "1  create user name identified by pass123 tempora...      1\n",
              "2   AND 1  =  utl_inaddr.get_host_address   (    ...      1\n",
              "3   select * from users where id  =  '1' or @ @1 ...      1\n",
              "4   select * from users where id  =  1 or 1#\"  ( ...      1"
            ]
          },
          "metadata": {},
          "execution_count": 2
        }
      ]
    },
    {
      "cell_type": "code",
      "metadata": {
        "colab": {
          "base_uri": "https://localhost:8080/"
        },
        "id": "GonZsWP10ve0",
        "outputId": "85c9cd1e-18ce-4c6d-eea0-fe02dc36c284"
      },
      "source": [
        "df.shape"
      ],
      "execution_count": null,
      "outputs": [
        {
          "output_type": "execute_result",
          "data": {
            "text/plain": [
              "(44557, 2)"
            ]
          },
          "metadata": {},
          "execution_count": 3
        }
      ]
    },
    {
      "cell_type": "code",
      "metadata": {
        "id": "Q3dDMRmXNu81"
      },
      "source": [
        "df.dropna(inplace=True)"
      ],
      "execution_count": null,
      "outputs": []
    },
    {
      "cell_type": "markdown",
      "metadata": {
        "id": "s59Bt-HQ1Qgp"
      },
      "source": [
        "**Visualization**"
      ]
    },
    {
      "cell_type": "code",
      "metadata": {
        "colab": {
          "base_uri": "https://localhost:8080/",
          "height": 310
        },
        "id": "O3adrq2BvdFI",
        "outputId": "857847fc-c06b-446d-c0bc-64db1995b352"
      },
      "source": [
        "count=df['Label'].value_counts()\n",
        "fig = plt.figure(figsize = (6, 3))\n",
        "plt.bar(count.index,count.values)\n",
        "plt.xlabel(\"Queries\")\n",
        "plt.ylabel(\"Count of Queries\")\n",
        "plt.title(\"Weightage of Queries\")\n",
        "plt.show\n",
        "count"
      ],
      "execution_count": null,
      "outputs": [
        {
          "output_type": "execute_result",
          "data": {
            "text/plain": [
              "0    25842\n",
              "1    11342\n",
              "2     7373\n",
              "Name: Label, dtype: int64"
            ]
          },
          "metadata": {},
          "execution_count": 5
        },
        {
          "output_type": "display_data",
          "data": {
            "image/png": "[encoded data removed]",
            "text/plain": [
              "<Figure size 432x216 with 1 Axes>"
            ]
          },
          "metadata": {
            "needs_background": "light"
          }
        }
      ]
    },
    {
      "cell_type": "markdown",
      "metadata": {
        "id": "Z345fF0NmZc-"
      },
      "source": [
        "**Data Preprocessing**"
      ]
    },
    {
      "cell_type": "code",
      "metadata": {
        "id": "0O8oesysAv66"
      },
      "source": [
        "from sklearn.feature_extraction.text import CountVectorizer\n",
        "vectorizer = CountVectorizer( min_df=2, max_df=0.7, stop_words=stopwords.words('english'))\n",
        "posts = vectorizer.fit_transform(df['Sentence'].values.astype('U')).toarray()"
      ],
      "execution_count": null,
      "outputs": []
    },
    {
      "cell_type": "code",
      "metadata": {
        "colab": {
          "base_uri": "https://localhost:8080/"
        },
        "id": "TV-Bl2nFBCd8",
        "outputId": "19a1f58a-1046-4876-b680-8c58878d230c"
      },
      "source": [
        "transformed_posts=pd.DataFrame(posts)\n",
        "y=df['Label']\n",
        "y"
      ],
      "execution_count": null,
      "outputs": [
        {
          "output_type": "execute_result",
          "data": {
            "text/plain": [
              "0        1\n",
              "1        1\n",
              "2        1\n",
              "3        1\n",
              "4        1\n",
              "        ..\n",
              "44552    2\n",
              "44553    2\n",
              "44554    2\n",
              "44555    0\n",
              "44556    0\n",
              "Name: Label, Length: 44557, dtype: int64"
            ]
          },
          "metadata": {},
          "execution_count": 7
        }
      ]
    },
    {
      "cell_type": "code",
      "metadata": {
        "id": "IFxFIkdqHVKT"
      },
      "source": [
        "one_hot_encoded_data = pd.get_dummies(df, columns = ['Label'])\n",
        "one_hot_encoded_data.drop(['Sentence'],inplace=True,axis=1)\n",
        "y=one_hot_encoded_data.values"
      ],
      "execution_count": null,
      "outputs": []
    },
    {
      "cell_type": "code",
      "metadata": {
        "colab": {
          "base_uri": "https://localhost:8080/"
        },
        "id": "b9Pr8SqoLJUH",
        "outputId": "4b4c20bf-4d15-4563-d6bc-d37694c9fb5a"
      },
      "source": [
        "y"
      ],
      "execution_count": null,
      "outputs": [
        {
          "output_type": "execute_result",
          "data": {
            "text/plain": [
              "array([[0, 1, 0],\n",
              "       [0, 1, 0],\n",
              "       [0, 1, 0],\n",
              "       ...,\n",
              "       [0, 0, 1],\n",
              "       [1, 0, 0],\n",
              "       [1, 0, 0]], dtype=uint8)"
            ]
          },
          "metadata": {},
          "execution_count": 9
        }
      ]
    },
    {
      "cell_type": "markdown",
      "metadata": {
        "id": "HjMeUqkpnrT_"
      },
      "source": [
        "**Traning & Testing**"
      ]
    },
    {
      "cell_type": "code",
      "metadata": {
        "id": "Ttmxep3LBIEa"
      },
      "source": [
        "from sklearn.model_selection import train_test_split\n",
        "X_train, X_test, y_train, y_test = train_test_split(transformed_posts, y, test_size=0.2, random_state=42)"
      ],
      "execution_count": null,
      "outputs": []
    },
    {
      "cell_type": "code",
      "metadata": {
        "id": "F1OAZ-V8BVGF"
      },
      "source": [
        "from keras.models import Sequential\n",
        "from keras import layers\n",
        "from keras.preprocessing.text import Tokenizer\n",
        "from keras.wrappers.scikit_learn import KerasClassifier"
      ],
      "execution_count": null,
      "outputs": []
    },
    {
      "cell_type": "code",
      "metadata": {
        "id": "gm7Dl0SxBbNj",
        "colab": {
          "base_uri": "https://localhost:8080/"
        },
        "outputId": "e8a5d708-1083-4b0f-caed-88f35c6f0fe6"
      },
      "source": [
        "input_dim = X_train.shape[1]\n",
        "model = Sequential()\n",
        "model.add(layers.Dense(20, input_dim=input_dim, activation='relu'))\n",
        "model.add(layers.Dense(10,  activation='tanh'))\n",
        "model.add(layers.Dense(1024, activation='relu'))\n",
        "\n",
        "model.add(layers.BatchNormalization())\n",
        "model.add(layers.Dropout(0.5))\n",
        "model.add(layers.Dense(3, activation='softmax'))\n",
        "model.compile(loss='binary_crossentropy', \n",
        "              optimizer='adam', \n",
        "              metrics=['accuracy'])\n",
        "model.summary()"
      ],
      "execution_count": null,
      "outputs": [
        {
          "output_type": "stream",
          "name": "stdout",
          "text": [
            "Model: \"sequential\"\n",
            "_________________________________________________________________\n",
            " Layer (type)                Output Shape              Param #   \n",
            "=================================================================\n",
            " dense (Dense)               (None, 20)                225760    \n",
            "                                                                 \n",
            " dense_1 (Dense)             (None, 10)                210       \n",
            "                                                                 \n",
            " dense_2 (Dense)             (None, 1024)              11264     \n",
            "                                                                 \n",
            " batch_normalization (BatchN  (None, 1024)             4096      \n",
            " ormalization)                                                   \n",
            "                                                                 \n",
            " dropout (Dropout)           (None, 1024)              0         \n",
            "                                                                 \n",
            " dense_3 (Dense)             (None, 3)                 3075      \n",
            "                                                                 \n",
            "=================================================================\n",
            "Total params: 244,405\n",
            "Trainable params: 242,357\n",
            "Non-trainable params: 2,048\n",
            "_________________________________________________________________\n"
          ]
        }
      ]
    },
    {
      "cell_type": "code",
      "metadata": {
        "colab": {
          "base_uri": "https://localhost:8080/"
        },
        "id": "i4hNtFNXBlyS",
        "outputId": "f22af5a8-a4c8-4a3c-84db-08865dbf604f"
      },
      "source": [
        "classifier_nn = model.fit(X_train,y_train,\n",
        "                    epochs=10,\n",
        "                    verbose=True,\n",
        "                    validation_split=0.2,\n",
        "                    batch_size=15)"
      ],
      "execution_count": null,
      "outputs": [
        {
          "output_type": "stream",
          "name": "stdout",
          "text": [
            "Epoch 1/10\n",
            "1902/1902 [==============================] - 14s 7ms/step - loss: 0.1046 - accuracy: 0.9532 - val_loss: 0.0683 - val_accuracy: 0.9715\n",
            "Epoch 2/10\n",
            "1902/1902 [==============================] - 12s 6ms/step - loss: 0.0534 - accuracy: 0.9810 - val_loss: 0.0581 - val_accuracy: 0.9750\n",
            "Epoch 3/10\n",
            "1902/1902 [==============================] - 12s 6ms/step - loss: 0.0421 - accuracy: 0.9852 - val_loss: 0.0576 - val_accuracy: 0.9745\n",
            "Epoch 4/10\n",
            "1902/1902 [==============================] - 12s 6ms/step - loss: 0.0413 - accuracy: 0.9856 - val_loss: 0.0729 - val_accuracy: 0.9677\n",
            "Epoch 5/10\n",
            "1902/1902 [==============================] - 12s 6ms/step - loss: 0.0417 - accuracy: 0.9856 - val_loss: 0.0766 - val_accuracy: 0.9683\n",
            "Epoch 6/10\n",
            "1902/1902 [==============================] - 12s 6ms/step - loss: 0.0399 - accuracy: 0.9859 - val_loss: 0.0702 - val_accuracy: 0.9676\n",
            "Epoch 7/10\n",
            "1902/1902 [==============================] - 12s 7ms/step - loss: 0.0384 - accuracy: 0.9856 - val_loss: 0.0759 - val_accuracy: 0.9679\n",
            "Epoch 8/10\n",
            "1902/1902 [==============================] - 12s 6ms/step - loss: 0.0384 - accuracy: 0.9861 - val_loss: 0.0913 - val_accuracy: 0.9652\n",
            "Epoch 9/10\n",
            "1902/1902 [==============================] - 13s 7ms/step - loss: 0.0360 - accuracy: 0.9870 - val_loss: 0.0841 - val_accuracy: 0.9659\n",
            "Epoch 10/10\n",
            "1902/1902 [==============================] - 12s 6ms/step - loss: 0.0369 - accuracy: 0.9863 - val_loss: 0.0804 - val_accuracy: 0.9661\n"
          ]
        }
      ]
    },
    {
      "cell_type": "markdown",
      "metadata": {
        "id": "4LuvYJUmoTNE"
      },
      "source": [
        "**Prediction**"
      ]
    },
    {
      "cell_type": "code",
      "metadata": {
        "id": "Bg_iP9scBqBf"
      },
      "source": [
        "y_pred=model.predict(X_test)"
      ],
      "execution_count": null,
      "outputs": []
    },
    {
      "cell_type": "code",
      "metadata": {
        "id": "kBihVDA_OzW8"
      },
      "source": [
        "for i,row in enumerate(y_pred):\n",
        "   max_element=max(row)\n",
        "   for j in range(len(row)):\n",
        "     if row[j]==max_element:\n",
        "       row[j]=1\n",
        "     else:\n",
        "       row[j]=0\n"
      ],
      "execution_count": null,
      "outputs": []
    },
    {
      "cell_type": "code",
      "metadata": {
        "id": "VuiXYEppCJ_M"
      },
      "source": [
        "y_test=y_test.astype('float32')"
      ],
      "execution_count": null,
      "outputs": []
    },
    {
      "cell_type": "code",
      "metadata": {
        "colab": {
          "base_uri": "https://localhost:8080/"
        },
        "id": "0NvwqeANB7vA",
        "outputId": "edcd260b-1c59-4210-f567-231771c339ce"
      },
      "source": [
        "y_test"
      ],
      "execution_count": null,
      "outputs": [
        {
          "output_type": "execute_result",
          "data": {
            "text/plain": [
              "array([[1., 0., 0.],\n",
              "       [1., 0., 0.],\n",
              "       [1., 0., 0.],\n",
              "       ...,\n",
              "       [1., 0., 0.],\n",
              "       [0., 0., 1.],\n",
              "       [1., 0., 0.]], dtype=float32)"
            ]
          },
          "metadata": {},
          "execution_count": 17
        }
      ]
    },
    {
      "cell_type": "markdown",
      "metadata": {
        "id": "q0ShEacDppeu"
      },
      "source": [
        "**Classification Report**"
      ]
    },
    {
      "cell_type": "code",
      "metadata": {
        "colab": {
          "base_uri": "https://localhost:8080/"
        },
        "id": "BMeHLWioB_hu",
        "outputId": "4199fa96-48f1-49f1-8a6f-3cd02bbcf123"
      },
      "source": [
        "from sklearn.metrics import classification_report\n",
        "print(classification_report(y_test, y_pred))"
      ],
      "execution_count": null,
      "outputs": [
        {
          "output_type": "stream",
          "name": "stdout",
          "text": [
            "              precision    recall  f1-score   support\n",
            "\n",
            "           0       0.95      0.99      0.97      5133\n",
            "           1       0.97      0.88      0.92      2308\n",
            "           2       1.00      1.00      1.00      1471\n",
            "\n",
            "   micro avg       0.96      0.96      0.96      8912\n",
            "   macro avg       0.97      0.95      0.96      8912\n",
            "weighted avg       0.96      0.96      0.96      8912\n",
            " samples avg       0.96      0.96      0.96      8912\n",
            "\n"
          ]
        }
      ]
    },
    {
      "cell_type": "markdown",
      "metadata": {
        "id": "1nPQoUrbooUO"
      },
      "source": [
        "**HEAT MAP**"
      ]
    },
    {
      "cell_type": "code",
      "metadata": {
        "colab": {
          "base_uri": "https://localhost:8080/",
          "height": 404
        },
        "id": "FFRuEjypQaZg",
        "outputId": "b4fa77ab-7f5e-4550-8af5-ee61ee110a79"
      },
      "source": [
        "from sklearn import metrics\n",
        "import seaborn as sns\n",
        "cm=metrics.confusion_matrix(y_test.argmax(axis=1),y_pred.argmax(axis=1))\n",
        "cm_df = pd.DataFrame(cm,\n",
        "                     index = ['NQ','SQL','CSS'], \n",
        "                     columns = ['NQ','SQL','CSS'])\n",
        "plt.figure(figsize=(8,6))\n",
        "sns.heatmap(cm_df, annot=True)\n",
        "plt.title('HEATMAP')\n",
        "plt.ylabel('Actal Values')\n",
        "plt.xlabel('Predicted Values')\n",
        "plt.show()"
      ],
      "execution_count": null,
      "outputs": [
        {
          "output_type": "display_data",
          "data": {
            "image/png": "[encoded data removed]",
            "text/plain": [
              "<Figure size 576x432 with 2 Axes>"
            ]
          },
          "metadata": {
            "needs_background": "light"
          }
        }
      ]
    },
    {
      "cell_type": "markdown",
      "metadata": {
        "id": "rV-zFl0Sov5E"
      },
      "source": [
        "**Database Ping**"
      ]
    },
    {
      "cell_type": "code",
      "metadata": {
        "id": "edUNXMNQ_kXn"
      },
      "source": [
        "while True:\n",
        "  URL = \"https://mkviews.000webhostapp.com/GetQuery.php\"\n",
        "  r = requests.get(URL)\n",
        "  soup = BeautifulSoup(r.content, 'html5lib')\n",
        "  Qry = soup.find(id=\"Query\")\n",
        "  qy=[]\n",
        "  qy.append(Qry.text)\n",
        "  if Qry.text!=\"0\":\n",
        "      data=pd.DataFrame(qy,columns=['Sent'])\n",
        "      vectorizee = CountVectorizer()\n",
        "      poste = vectorizee.fit_transform(data['Sent'].values.astype('U')).toarray()\n",
        "      z_pred=model.predict(poste)\n",
        "      for i,row in enumerate(z_pred):\n",
        "        max_element=max(row)\n",
        "        for j in range(len(row)):\n",
        "          if row[j]==max_element:\n",
        "            row[j]=1\n",
        "          else:\n",
        "            row[j]=0\n",
        "      max_element=max(max(z_pred))\n",
        "      for i,row in enumerate(max(z_pred)):\n",
        "          if row==max_element:\n",
        "            if i==0:\n",
        "              Q_type=\"Normal Query\"\n",
        "            elif i==1:\n",
        "              Q_type=\"SQL Injection\"\n",
        "            elif i==2:\n",
        "              Q_type=\"CSS\"\n",
        "      URL = \"https://mkviews.000webhostapp.com/InsertLog.php?qry=\"+Qry.text+\"&type=\"+Q_type\n",
        "      r = requests.get(URL)\n",
        "      soup = BeautifulSoup(r.content, 'html5lib')\n",
        "      URL = \"https://mkviews.000webhostapp.com/TruncateDB.php\"\n",
        "      r = requests.get(URL)\n",
        "      soup = BeautifulSoup(r.content, 'html5lib')"
      ],
      "execution_count": null,
      "outputs": []
    },
    {
      "cell_type": "code",
      "metadata": {
        "id": "wz9o0-ehTMQ7"
      },
      "source": [
        "model = Sequential()\n",
        "model.add(layers.Dense(10,  activation='tanh'))\n",
        "model.add(layers.Dense(1024, activation='relu'))\n",
        "model.add(layers.BatchNormalization())\n",
        "model.add(layers.Dropout(0.5))\n",
        "model.add(layers.Dense(3, activation='softmax'))\n",
        "model.compile(loss='binary_crossentropy', \n",
        "              optimizer='adam', \n",
        "              metrics=['accuracy'])\n"
      ],
      "execution_count": null,
      "outputs": []
    }
  ]
}